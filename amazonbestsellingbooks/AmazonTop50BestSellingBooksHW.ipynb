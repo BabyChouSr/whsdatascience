{
 "metadata": {
  "language_info": {
   "codemirror_mode": {
    "name": "ipython",
    "version": 3
   },
   "file_extension": ".py",
   "mimetype": "text/x-python",
   "name": "python",
   "nbconvert_exporter": "python",
   "pygments_lexer": "ipython3",
   "version": "3.8.5-final"
  },
  "orig_nbformat": 2,
  "kernelspec": {
   "name": "python3",
   "display_name": "Python 3"
  }
 },
 "nbformat": 4,
 "nbformat_minor": 2,
 "cells": [
  {
   "source": [
    "## Import Libraries"
   ],
   "cell_type": "markdown",
   "metadata": {}
  },
  {
   "source": [
    "## Read in Data"
   ],
   "cell_type": "markdown",
   "metadata": {}
  },
  {
   "source": [
    "## Add Weighted Ratings"
   ],
   "cell_type": "markdown",
   "metadata": {}
  },
  {
   "source": [
    "## Who are the Top 10 Bestselling Authors?"
   ],
   "cell_type": "markdown",
   "metadata": {}
  },
  {
   "source": [
    "## What are the Top 10 Bestselling Books?"
   ],
   "cell_type": "markdown",
   "metadata": {}
  },
  {
   "source": [
    "## What are the Top 10 Most Expensive Bestselling Books?"
   ],
   "cell_type": "markdown",
   "metadata": {}
  },
  {
   "source": [
    "## What are the portions of Non-Fiction vs. Fiction Books?"
   ],
   "cell_type": "markdown",
   "metadata": {}
  },
  {
   "source": [
    "## Who are the Top 10 Authors with the Most Reviews and their Weighted Ratings?\n"
   ],
   "cell_type": "markdown",
   "metadata": {}
  },
  {
   "source": [
    "## Who are the Top 10 Authors Who Sold the Most Books?"
   ],
   "cell_type": "markdown",
   "metadata": {}
  }
 ]
}