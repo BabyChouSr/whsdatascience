{
 "metadata": {
  "language_info": {
   "codemirror_mode": {
    "name": "ipython",
    "version": 3
   },
   "file_extension": ".py",
   "mimetype": "text/x-python",
   "name": "python",
   "nbconvert_exporter": "python",
   "pygments_lexer": "ipython3",
   "version": "3.6.10-final"
  },
  "orig_nbformat": 2,
  "kernelspec": {
   "name": "python3",
   "display_name": "Python 3"
  }
 },
 "nbformat": 4,
 "nbformat_minor": 2,
 "cells": [
  {
   "cell_type": "code",
   "execution_count": 8,
   "metadata": {},
   "outputs": [
    {
     "output_type": "stream",
     "name": "stdout",
     "text": [
      "Requirement already satisfied: pandas in f:\\anaconda3\\lib\\site-packages (1.0.5)\n",
      "Requirement already satisfied: numpy>=1.13.3 in f:\\anaconda3\\lib\\site-packages (from pandas) (1.19.4)\n",
      "Requirement already satisfied: pytz>=2017.2 in f:\\anaconda3\\lib\\site-packages (from pandas) (2020.1)\n",
      "Requirement already satisfied: python-dateutil>=2.6.1 in f:\\anaconda3\\lib\\site-packages (from pandas) (2.8.1)\n",
      "Requirement already satisfied: six>=1.5 in f:\\anaconda3\\lib\\site-packages (from python-dateutil>=2.6.1->pandas) (1.15.0)\n"
     ]
    }
   ],
   "source": [
    "!pip install pandas\n",
    "import pandas as pd"
   ]
  },
  {
   "cell_type": "code",
   "execution_count": 7,
   "metadata": {},
   "outputs": [
    {
     "output_type": "execute_result",
     "data": {
      "text/plain": [
       "     Undergraduate Major  Starting Median Salary  Mid-Career Median Salary  \\\n",
       "0             Accounting                 46000.0                   77100.0   \n",
       "1  Aerospace Engineering                 57700.0                  101000.0   \n",
       "2            Agriculture                 42600.0                   71900.0   \n",
       "3           Anthropology                 36800.0                   61500.0   \n",
       "4           Architecture                 41600.0                   76800.0   \n",
       "\n",
       "   Mid-Career 10th Percentile Salary  Mid-Career 90th Percentile Salary  \\\n",
       "0                            42200.0                           152000.0   \n",
       "1                            64300.0                           161000.0   \n",
       "2                            36300.0                           150000.0   \n",
       "3                            33800.0                           138000.0   \n",
       "4                            50600.0                           136000.0   \n",
       "\n",
       "      Group  \n",
       "0  Business  \n",
       "1      STEM  \n",
       "2  Business  \n",
       "3      HASS  \n",
       "4  Business  "
      ],
      "text/html": "<div>\n<style scoped>\n    .dataframe tbody tr th:only-of-type {\n        vertical-align: middle;\n    }\n\n    .dataframe tbody tr th {\n        vertical-align: top;\n    }\n\n    .dataframe thead th {\n        text-align: right;\n    }\n</style>\n<table border=\"1\" class=\"dataframe\">\n  <thead>\n    <tr style=\"text-align: right;\">\n      <th></th>\n      <th>Undergraduate Major</th>\n      <th>Starting Median Salary</th>\n      <th>Mid-Career Median Salary</th>\n      <th>Mid-Career 10th Percentile Salary</th>\n      <th>Mid-Career 90th Percentile Salary</th>\n      <th>Group</th>\n    </tr>\n  </thead>\n  <tbody>\n    <tr>\n      <th>0</th>\n      <td>Accounting</td>\n      <td>46000.0</td>\n      <td>77100.0</td>\n      <td>42200.0</td>\n      <td>152000.0</td>\n      <td>Business</td>\n    </tr>\n    <tr>\n      <th>1</th>\n      <td>Aerospace Engineering</td>\n      <td>57700.0</td>\n      <td>101000.0</td>\n      <td>64300.0</td>\n      <td>161000.0</td>\n      <td>STEM</td>\n    </tr>\n    <tr>\n      <th>2</th>\n      <td>Agriculture</td>\n      <td>42600.0</td>\n      <td>71900.0</td>\n      <td>36300.0</td>\n      <td>150000.0</td>\n      <td>Business</td>\n    </tr>\n    <tr>\n      <th>3</th>\n      <td>Anthropology</td>\n      <td>36800.0</td>\n      <td>61500.0</td>\n      <td>33800.0</td>\n      <td>138000.0</td>\n      <td>HASS</td>\n    </tr>\n    <tr>\n      <th>4</th>\n      <td>Architecture</td>\n      <td>41600.0</td>\n      <td>76800.0</td>\n      <td>50600.0</td>\n      <td>136000.0</td>\n      <td>Business</td>\n    </tr>\n  </tbody>\n</table>\n</div>"
     },
     "metadata": {},
     "execution_count": 7
    }
   ],
   "source": [
    "#Uploading and reading data\n",
    "df = pd.read_csv(\"salaries_by_college_major.csv\")\n",
    "#df = pd.read_excel('salaries_by_college_major.xlsx')\n",
    "df.head()"
   ]
  },
  {
   "cell_type": "code",
   "execution_count": 6,
   "metadata": {},
   "outputs": [
    {
     "output_type": "execute_result",
     "data": {
      "text/plain": [
       "    Undergraduate Major  Starting Median Salary  Mid-Career Median Salary  \\\n",
       "0                 False                   False                     False   \n",
       "1                 False                   False                     False   \n",
       "2                 False                   False                     False   \n",
       "3                 False                   False                     False   \n",
       "4                 False                   False                     False   \n",
       "5                 False                   False                     False   \n",
       "6                 False                   False                     False   \n",
       "7                 False                   False                     False   \n",
       "8                 False                   False                     False   \n",
       "9                 False                   False                     False   \n",
       "10                False                   False                     False   \n",
       "11                False                   False                     False   \n",
       "12                False                   False                     False   \n",
       "13                False                   False                     False   \n",
       "14                False                   False                     False   \n",
       "15                False                   False                     False   \n",
       "16                False                   False                     False   \n",
       "17                False                   False                     False   \n",
       "18                False                   False                     False   \n",
       "19                False                   False                     False   \n",
       "20                False                   False                     False   \n",
       "21                False                   False                     False   \n",
       "22                False                   False                     False   \n",
       "23                False                   False                     False   \n",
       "24                False                   False                     False   \n",
       "25                False                   False                     False   \n",
       "26                False                   False                     False   \n",
       "27                False                   False                     False   \n",
       "28                False                   False                     False   \n",
       "29                False                   False                     False   \n",
       "30                False                   False                     False   \n",
       "31                False                   False                     False   \n",
       "32                False                   False                     False   \n",
       "33                False                   False                     False   \n",
       "34                False                   False                     False   \n",
       "35                False                   False                     False   \n",
       "36                False                   False                     False   \n",
       "37                False                   False                     False   \n",
       "38                False                   False                     False   \n",
       "39                False                   False                     False   \n",
       "40                False                   False                     False   \n",
       "41                False                   False                     False   \n",
       "42                False                   False                     False   \n",
       "43                False                   False                     False   \n",
       "44                False                   False                     False   \n",
       "45                False                   False                     False   \n",
       "46                False                   False                     False   \n",
       "47                False                   False                     False   \n",
       "48                False                   False                     False   \n",
       "49                False                   False                     False   \n",
       "50                False                    True                      True   \n",
       "\n",
       "    Mid-Career 10th Percentile Salary  Mid-Career 90th Percentile Salary  \\\n",
       "0                               False                              False   \n",
       "1                               False                              False   \n",
       "2                               False                              False   \n",
       "3                               False                              False   \n",
       "4                               False                              False   \n",
       "5                               False                              False   \n",
       "6                               False                              False   \n",
       "7                               False                              False   \n",
       "8                               False                              False   \n",
       "9                               False                              False   \n",
       "10                              False                              False   \n",
       "11                              False                              False   \n",
       "12                              False                              False   \n",
       "13                              False                              False   \n",
       "14                              False                              False   \n",
       "15                              False                              False   \n",
       "16                              False                              False   \n",
       "17                              False                              False   \n",
       "18                              False                              False   \n",
       "19                              False                              False   \n",
       "20                              False                              False   \n",
       "21                              False                              False   \n",
       "22                              False                              False   \n",
       "23                              False                              False   \n",
       "24                              False                              False   \n",
       "25                              False                              False   \n",
       "26                              False                              False   \n",
       "27                              False                              False   \n",
       "28                              False                              False   \n",
       "29                              False                              False   \n",
       "30                              False                              False   \n",
       "31                              False                              False   \n",
       "32                              False                              False   \n",
       "33                              False                              False   \n",
       "34                              False                              False   \n",
       "35                              False                              False   \n",
       "36                              False                              False   \n",
       "37                              False                              False   \n",
       "38                              False                              False   \n",
       "39                              False                              False   \n",
       "40                              False                              False   \n",
       "41                              False                              False   \n",
       "42                              False                              False   \n",
       "43                              False                              False   \n",
       "44                              False                              False   \n",
       "45                              False                              False   \n",
       "46                              False                              False   \n",
       "47                              False                              False   \n",
       "48                              False                              False   \n",
       "49                              False                              False   \n",
       "50                               True                               True   \n",
       "\n",
       "    Group  \n",
       "0   False  \n",
       "1   False  \n",
       "2   False  \n",
       "3   False  \n",
       "4   False  \n",
       "5   False  \n",
       "6   False  \n",
       "7   False  \n",
       "8   False  \n",
       "9   False  \n",
       "10  False  \n",
       "11  False  \n",
       "12  False  \n",
       "13  False  \n",
       "14  False  \n",
       "15  False  \n",
       "16  False  \n",
       "17  False  \n",
       "18  False  \n",
       "19  False  \n",
       "20  False  \n",
       "21  False  \n",
       "22  False  \n",
       "23  False  \n",
       "24  False  \n",
       "25  False  \n",
       "26  False  \n",
       "27  False  \n",
       "28  False  \n",
       "29  False  \n",
       "30  False  \n",
       "31  False  \n",
       "32  False  \n",
       "33  False  \n",
       "34  False  \n",
       "35  False  \n",
       "36  False  \n",
       "37  False  \n",
       "38  False  \n",
       "39  False  \n",
       "40  False  \n",
       "41  False  \n",
       "42  False  \n",
       "43  False  \n",
       "44  False  \n",
       "45  False  \n",
       "46  False  \n",
       "47  False  \n",
       "48  False  \n",
       "49  False  \n",
       "50   True  "
      ],
      "text/html": "<div>\n<style scoped>\n    .dataframe tbody tr th:only-of-type {\n        vertical-align: middle;\n    }\n\n    .dataframe tbody tr th {\n        vertical-align: top;\n    }\n\n    .dataframe thead th {\n        text-align: right;\n    }\n</style>\n<table border=\"1\" class=\"dataframe\">\n  <thead>\n    <tr style=\"text-align: right;\">\n      <th></th>\n      <th>Undergraduate Major</th>\n      <th>Starting Median Salary</th>\n      <th>Mid-Career Median Salary</th>\n      <th>Mid-Career 10th Percentile Salary</th>\n      <th>Mid-Career 90th Percentile Salary</th>\n      <th>Group</th>\n    </tr>\n  </thead>\n  <tbody>\n    <tr>\n      <th>0</th>\n      <td>False</td>\n      <td>False</td>\n      <td>False</td>\n      <td>False</td>\n      <td>False</td>\n      <td>False</td>\n    </tr>\n    <tr>\n      <th>1</th>\n      <td>False</td>\n      <td>False</td>\n      <td>False</td>\n      <td>False</td>\n      <td>False</td>\n      <td>False</td>\n    </tr>\n    <tr>\n      <th>2</th>\n      <td>False</td>\n      <td>False</td>\n      <td>False</td>\n      <td>False</td>\n      <td>False</td>\n      <td>False</td>\n    </tr>\n    <tr>\n      <th>3</th>\n      <td>False</td>\n      <td>False</td>\n      <td>False</td>\n      <td>False</td>\n      <td>False</td>\n      <td>False</td>\n    </tr>\n    <tr>\n      <th>4</th>\n      <td>False</td>\n      <td>False</td>\n      <td>False</td>\n      <td>False</td>\n      <td>False</td>\n      <td>False</td>\n    </tr>\n    <tr>\n      <th>5</th>\n      <td>False</td>\n      <td>False</td>\n      <td>False</td>\n      <td>False</td>\n      <td>False</td>\n      <td>False</td>\n    </tr>\n    <tr>\n      <th>6</th>\n      <td>False</td>\n      <td>False</td>\n      <td>False</td>\n      <td>False</td>\n      <td>False</td>\n      <td>False</td>\n    </tr>\n    <tr>\n      <th>7</th>\n      <td>False</td>\n      <td>False</td>\n      <td>False</td>\n      <td>False</td>\n      <td>False</td>\n      <td>False</td>\n    </tr>\n    <tr>\n      <th>8</th>\n      <td>False</td>\n      <td>False</td>\n      <td>False</td>\n      <td>False</td>\n      <td>False</td>\n      <td>False</td>\n    </tr>\n    <tr>\n      <th>9</th>\n      <td>False</td>\n      <td>False</td>\n      <td>False</td>\n      <td>False</td>\n      <td>False</td>\n      <td>False</td>\n    </tr>\n    <tr>\n      <th>10</th>\n      <td>False</td>\n      <td>False</td>\n      <td>False</td>\n      <td>False</td>\n      <td>False</td>\n      <td>False</td>\n    </tr>\n    <tr>\n      <th>11</th>\n      <td>False</td>\n      <td>False</td>\n      <td>False</td>\n      <td>False</td>\n      <td>False</td>\n      <td>False</td>\n    </tr>\n    <tr>\n      <th>12</th>\n      <td>False</td>\n      <td>False</td>\n      <td>False</td>\n      <td>False</td>\n      <td>False</td>\n      <td>False</td>\n    </tr>\n    <tr>\n      <th>13</th>\n      <td>False</td>\n      <td>False</td>\n      <td>False</td>\n      <td>False</td>\n      <td>False</td>\n      <td>False</td>\n    </tr>\n    <tr>\n      <th>14</th>\n      <td>False</td>\n      <td>False</td>\n      <td>False</td>\n      <td>False</td>\n      <td>False</td>\n      <td>False</td>\n    </tr>\n    <tr>\n      <th>15</th>\n      <td>False</td>\n      <td>False</td>\n      <td>False</td>\n      <td>False</td>\n      <td>False</td>\n      <td>False</td>\n    </tr>\n    <tr>\n      <th>16</th>\n      <td>False</td>\n      <td>False</td>\n      <td>False</td>\n      <td>False</td>\n      <td>False</td>\n      <td>False</td>\n    </tr>\n    <tr>\n      <th>17</th>\n      <td>False</td>\n      <td>False</td>\n      <td>False</td>\n      <td>False</td>\n      <td>False</td>\n      <td>False</td>\n    </tr>\n    <tr>\n      <th>18</th>\n      <td>False</td>\n      <td>False</td>\n      <td>False</td>\n      <td>False</td>\n      <td>False</td>\n      <td>False</td>\n    </tr>\n    <tr>\n      <th>19</th>\n      <td>False</td>\n      <td>False</td>\n      <td>False</td>\n      <td>False</td>\n      <td>False</td>\n      <td>False</td>\n    </tr>\n    <tr>\n      <th>20</th>\n      <td>False</td>\n      <td>False</td>\n      <td>False</td>\n      <td>False</td>\n      <td>False</td>\n      <td>False</td>\n    </tr>\n    <tr>\n      <th>21</th>\n      <td>False</td>\n      <td>False</td>\n      <td>False</td>\n      <td>False</td>\n      <td>False</td>\n      <td>False</td>\n    </tr>\n    <tr>\n      <th>22</th>\n      <td>False</td>\n      <td>False</td>\n      <td>False</td>\n      <td>False</td>\n      <td>False</td>\n      <td>False</td>\n    </tr>\n    <tr>\n      <th>23</th>\n      <td>False</td>\n      <td>False</td>\n      <td>False</td>\n      <td>False</td>\n      <td>False</td>\n      <td>False</td>\n    </tr>\n    <tr>\n      <th>24</th>\n      <td>False</td>\n      <td>False</td>\n      <td>False</td>\n      <td>False</td>\n      <td>False</td>\n      <td>False</td>\n    </tr>\n    <tr>\n      <th>25</th>\n      <td>False</td>\n      <td>False</td>\n      <td>False</td>\n      <td>False</td>\n      <td>False</td>\n      <td>False</td>\n    </tr>\n    <tr>\n      <th>26</th>\n      <td>False</td>\n      <td>False</td>\n      <td>False</td>\n      <td>False</td>\n      <td>False</td>\n      <td>False</td>\n    </tr>\n    <tr>\n      <th>27</th>\n      <td>False</td>\n      <td>False</td>\n      <td>False</td>\n      <td>False</td>\n      <td>False</td>\n      <td>False</td>\n    </tr>\n    <tr>\n      <th>28</th>\n      <td>False</td>\n      <td>False</td>\n      <td>False</td>\n      <td>False</td>\n      <td>False</td>\n      <td>False</td>\n    </tr>\n    <tr>\n      <th>29</th>\n      <td>False</td>\n      <td>False</td>\n      <td>False</td>\n      <td>False</td>\n      <td>False</td>\n      <td>False</td>\n    </tr>\n    <tr>\n      <th>30</th>\n      <td>False</td>\n      <td>False</td>\n      <td>False</td>\n      <td>False</td>\n      <td>False</td>\n      <td>False</td>\n    </tr>\n    <tr>\n      <th>31</th>\n      <td>False</td>\n      <td>False</td>\n      <td>False</td>\n      <td>False</td>\n      <td>False</td>\n      <td>False</td>\n    </tr>\n    <tr>\n      <th>32</th>\n      <td>False</td>\n      <td>False</td>\n      <td>False</td>\n      <td>False</td>\n      <td>False</td>\n      <td>False</td>\n    </tr>\n    <tr>\n      <th>33</th>\n      <td>False</td>\n      <td>False</td>\n      <td>False</td>\n      <td>False</td>\n      <td>False</td>\n      <td>False</td>\n    </tr>\n    <tr>\n      <th>34</th>\n      <td>False</td>\n      <td>False</td>\n      <td>False</td>\n      <td>False</td>\n      <td>False</td>\n      <td>False</td>\n    </tr>\n    <tr>\n      <th>35</th>\n      <td>False</td>\n      <td>False</td>\n      <td>False</td>\n      <td>False</td>\n      <td>False</td>\n      <td>False</td>\n    </tr>\n    <tr>\n      <th>36</th>\n      <td>False</td>\n      <td>False</td>\n      <td>False</td>\n      <td>False</td>\n      <td>False</td>\n      <td>False</td>\n    </tr>\n    <tr>\n      <th>37</th>\n      <td>False</td>\n      <td>False</td>\n      <td>False</td>\n      <td>False</td>\n      <td>False</td>\n      <td>False</td>\n    </tr>\n    <tr>\n      <th>38</th>\n      <td>False</td>\n      <td>False</td>\n      <td>False</td>\n      <td>False</td>\n      <td>False</td>\n      <td>False</td>\n    </tr>\n    <tr>\n      <th>39</th>\n      <td>False</td>\n      <td>False</td>\n      <td>False</td>\n      <td>False</td>\n      <td>False</td>\n      <td>False</td>\n    </tr>\n    <tr>\n      <th>40</th>\n      <td>False</td>\n      <td>False</td>\n      <td>False</td>\n      <td>False</td>\n      <td>False</td>\n      <td>False</td>\n    </tr>\n    <tr>\n      <th>41</th>\n      <td>False</td>\n      <td>False</td>\n      <td>False</td>\n      <td>False</td>\n      <td>False</td>\n      <td>False</td>\n    </tr>\n    <tr>\n      <th>42</th>\n      <td>False</td>\n      <td>False</td>\n      <td>False</td>\n      <td>False</td>\n      <td>False</td>\n      <td>False</td>\n    </tr>\n    <tr>\n      <th>43</th>\n      <td>False</td>\n      <td>False</td>\n      <td>False</td>\n      <td>False</td>\n      <td>False</td>\n      <td>False</td>\n    </tr>\n    <tr>\n      <th>44</th>\n      <td>False</td>\n      <td>False</td>\n      <td>False</td>\n      <td>False</td>\n      <td>False</td>\n      <td>False</td>\n    </tr>\n    <tr>\n      <th>45</th>\n      <td>False</td>\n      <td>False</td>\n      <td>False</td>\n      <td>False</td>\n      <td>False</td>\n      <td>False</td>\n    </tr>\n    <tr>\n      <th>46</th>\n      <td>False</td>\n      <td>False</td>\n      <td>False</td>\n      <td>False</td>\n      <td>False</td>\n      <td>False</td>\n    </tr>\n    <tr>\n      <th>47</th>\n      <td>False</td>\n      <td>False</td>\n      <td>False</td>\n      <td>False</td>\n      <td>False</td>\n      <td>False</td>\n    </tr>\n    <tr>\n      <th>48</th>\n      <td>False</td>\n      <td>False</td>\n      <td>False</td>\n      <td>False</td>\n      <td>False</td>\n      <td>False</td>\n    </tr>\n    <tr>\n      <th>49</th>\n      <td>False</td>\n      <td>False</td>\n      <td>False</td>\n      <td>False</td>\n      <td>False</td>\n      <td>False</td>\n    </tr>\n    <tr>\n      <th>50</th>\n      <td>False</td>\n      <td>True</td>\n      <td>True</td>\n      <td>True</td>\n      <td>True</td>\n      <td>True</td>\n    </tr>\n  </tbody>\n</table>\n</div>"
     },
     "metadata": {},
     "execution_count": 6
    }
   ],
   "source": [
    "#Cleaning the data\n",
    "df.isna() #returns the NAN values "
   ]
  },
  {
   "cell_type": "code",
   "execution_count": 10,
   "metadata": {},
   "outputs": [
    {
     "output_type": "execute_result",
     "data": {
      "text/plain": [
       "   Undergraduate Major  Starting Median Salary  Mid-Career Median Salary  \\\n",
       "45   Political Science                 40800.0                   78200.0   \n",
       "46          Psychology                 35900.0                   60400.0   \n",
       "47            Religion                 34100.0                   52000.0   \n",
       "48           Sociology                 36500.0                   58200.0   \n",
       "49             Spanish                 34000.0                   53100.0   \n",
       "\n",
       "    Mid-Career 10th Percentile Salary  Mid-Career 90th Percentile Salary Group  \n",
       "45                            41200.0                           168000.0  HASS  \n",
       "46                            31600.0                           127000.0  HASS  \n",
       "47                            29700.0                            96400.0  HASS  \n",
       "48                            30700.0                           118000.0  HASS  \n",
       "49                            31000.0                            96400.0  HASS  "
      ],
      "text/html": "<div>\n<style scoped>\n    .dataframe tbody tr th:only-of-type {\n        vertical-align: middle;\n    }\n\n    .dataframe tbody tr th {\n        vertical-align: top;\n    }\n\n    .dataframe thead th {\n        text-align: right;\n    }\n</style>\n<table border=\"1\" class=\"dataframe\">\n  <thead>\n    <tr style=\"text-align: right;\">\n      <th></th>\n      <th>Undergraduate Major</th>\n      <th>Starting Median Salary</th>\n      <th>Mid-Career Median Salary</th>\n      <th>Mid-Career 10th Percentile Salary</th>\n      <th>Mid-Career 90th Percentile Salary</th>\n      <th>Group</th>\n    </tr>\n  </thead>\n  <tbody>\n    <tr>\n      <th>45</th>\n      <td>Political Science</td>\n      <td>40800.0</td>\n      <td>78200.0</td>\n      <td>41200.0</td>\n      <td>168000.0</td>\n      <td>HASS</td>\n    </tr>\n    <tr>\n      <th>46</th>\n      <td>Psychology</td>\n      <td>35900.0</td>\n      <td>60400.0</td>\n      <td>31600.0</td>\n      <td>127000.0</td>\n      <td>HASS</td>\n    </tr>\n    <tr>\n      <th>47</th>\n      <td>Religion</td>\n      <td>34100.0</td>\n      <td>52000.0</td>\n      <td>29700.0</td>\n      <td>96400.0</td>\n      <td>HASS</td>\n    </tr>\n    <tr>\n      <th>48</th>\n      <td>Sociology</td>\n      <td>36500.0</td>\n      <td>58200.0</td>\n      <td>30700.0</td>\n      <td>118000.0</td>\n      <td>HASS</td>\n    </tr>\n    <tr>\n      <th>49</th>\n      <td>Spanish</td>\n      <td>34000.0</td>\n      <td>53100.0</td>\n      <td>31000.0</td>\n      <td>96400.0</td>\n      <td>HASS</td>\n    </tr>\n  </tbody>\n</table>\n</div>"
     },
     "metadata": {},
     "execution_count": 10
    }
   ],
   "source": [
    "clean_df = df.dropna()\n",
    "clean_df.tail()"
   ]
  },
  {
   "source": [
    "## Find College Major with Highest Starting Salaries\n"
   ],
   "cell_type": "markdown",
   "metadata": {}
  },
  {
   "cell_type": "code",
   "execution_count": 11,
   "metadata": {},
   "outputs": [
    {
     "output_type": "execute_result",
     "data": {
      "text/plain": [
       "74300.0"
      ]
     },
     "metadata": {},
     "execution_count": 11
    }
   ],
   "source": [
    "clean_df['Starting Median Salary'].max()"
   ]
  },
  {
   "cell_type": "code",
   "execution_count": 12,
   "metadata": {},
   "outputs": [
    {
     "output_type": "execute_result",
     "data": {
      "text/plain": [
       "43"
      ]
     },
     "metadata": {},
     "execution_count": 12
    }
   ],
   "source": [
    "# returns the row with the highest salary\n",
    "clean_df['Starting Median Salary'].idxmax() # -> INTEGER - > 43"
   ]
  },
  {
   "cell_type": "code",
   "execution_count": 16,
   "metadata": {},
   "outputs": [
    {
     "output_type": "execute_result",
     "data": {
      "text/plain": [
       "'Physician Assistant'"
      ]
     },
     "metadata": {},
     "execution_count": 16
    }
   ],
   "source": [
    "clean_df['Undergraduate Major'].loc[clean_df['Starting Median Salary'].idxmax()]"
   ]
  },
  {
   "source": [
    "## What college major has the highest mid career salary? How much do graduates with this major earn? (Mid-career is defined as having 10+ years of experience)."
   ],
   "cell_type": "markdown",
   "metadata": {}
  },
  {
   "cell_type": "code",
   "execution_count": 18,
   "metadata": {},
   "outputs": [
    {
     "output_type": "execute_result",
     "data": {
      "text/plain": [
       "'Chemical Engineering'"
      ]
     },
     "metadata": {},
     "execution_count": 18
    }
   ],
   "source": [
    "#highest mid-career median salary + major\n",
    "clean_df['Mid-Career Median Salary'].max()\n",
    "clean_df['Mid-Career Median Salary'].idxmax() # -> INTEGER - > 43\n",
    "clean_df['Undergraduate Major'].loc[clean_df['Mid-Career Median Salary'].idxmax()]"
   ]
  },
  {
   "source": [
    "## Which college major has the lowest starting salary and how much do graduates earn after university?\n"
   ],
   "cell_type": "markdown",
   "metadata": {}
  },
  {
   "cell_type": "code",
   "execution_count": 20,
   "metadata": {},
   "outputs": [
    {
     "output_type": "execute_result",
     "data": {
      "text/plain": [
       "'Spanish'"
      ]
     },
     "metadata": {},
     "execution_count": 20
    }
   ],
   "source": [
    "clean_df['Starting Median Salary'].min()\n",
    "clean_df['Starting Median Salary'].idxmin() \n",
    "clean_df['Undergraduate Major'].loc[clean_df['Starting Median Salary'].idxmin()]"
   ]
  },
  {
   "source": [
    "## Lowest Risk Majors\n",
    "A low-risk major is a degree where there is a small difference between the lowest and highest salaries. In other words, if the difference between the 10th percentile and the 90th percentile earnings of your major is small, then you can be more certain about your salary after you graduate.\n"
   ],
   "cell_type": "markdown",
   "metadata": {}
  },
  {
   "cell_type": "code",
   "execution_count": 23,
   "metadata": {},
   "outputs": [
    {
     "output_type": "execute_result",
     "data": {
      "text/plain": [
       "     Undergraduate Major    Spread  Starting Median Salary  \\\n",
       "0             Accounting  109800.0                 46000.0   \n",
       "1  Aerospace Engineering   96700.0                 57700.0   \n",
       "2            Agriculture  113700.0                 42600.0   \n",
       "3           Anthropology  104200.0                 36800.0   \n",
       "4           Architecture   85400.0                 41600.0   \n",
       "\n",
       "   Mid-Career Median Salary  Mid-Career 10th Percentile Salary  \\\n",
       "0                   77100.0                            42200.0   \n",
       "1                  101000.0                            64300.0   \n",
       "2                   71900.0                            36300.0   \n",
       "3                   61500.0                            33800.0   \n",
       "4                   76800.0                            50600.0   \n",
       "\n",
       "   Mid-Career 90th Percentile Salary     Group  \n",
       "0                           152000.0  Business  \n",
       "1                           161000.0      STEM  \n",
       "2                           150000.0  Business  \n",
       "3                           138000.0      HASS  \n",
       "4                           136000.0  Business  "
      ],
      "text/html": "<div>\n<style scoped>\n    .dataframe tbody tr th:only-of-type {\n        vertical-align: middle;\n    }\n\n    .dataframe tbody tr th {\n        vertical-align: top;\n    }\n\n    .dataframe thead th {\n        text-align: right;\n    }\n</style>\n<table border=\"1\" class=\"dataframe\">\n  <thead>\n    <tr style=\"text-align: right;\">\n      <th></th>\n      <th>Undergraduate Major</th>\n      <th>Spread</th>\n      <th>Starting Median Salary</th>\n      <th>Mid-Career Median Salary</th>\n      <th>Mid-Career 10th Percentile Salary</th>\n      <th>Mid-Career 90th Percentile Salary</th>\n      <th>Group</th>\n    </tr>\n  </thead>\n  <tbody>\n    <tr>\n      <th>0</th>\n      <td>Accounting</td>\n      <td>109800.0</td>\n      <td>46000.0</td>\n      <td>77100.0</td>\n      <td>42200.0</td>\n      <td>152000.0</td>\n      <td>Business</td>\n    </tr>\n    <tr>\n      <th>1</th>\n      <td>Aerospace Engineering</td>\n      <td>96700.0</td>\n      <td>57700.0</td>\n      <td>101000.0</td>\n      <td>64300.0</td>\n      <td>161000.0</td>\n      <td>STEM</td>\n    </tr>\n    <tr>\n      <th>2</th>\n      <td>Agriculture</td>\n      <td>113700.0</td>\n      <td>42600.0</td>\n      <td>71900.0</td>\n      <td>36300.0</td>\n      <td>150000.0</td>\n      <td>Business</td>\n    </tr>\n    <tr>\n      <th>3</th>\n      <td>Anthropology</td>\n      <td>104200.0</td>\n      <td>36800.0</td>\n      <td>61500.0</td>\n      <td>33800.0</td>\n      <td>138000.0</td>\n      <td>HASS</td>\n    </tr>\n    <tr>\n      <th>4</th>\n      <td>Architecture</td>\n      <td>85400.0</td>\n      <td>41600.0</td>\n      <td>76800.0</td>\n      <td>50600.0</td>\n      <td>136000.0</td>\n      <td>Business</td>\n    </tr>\n  </tbody>\n</table>\n</div>"
     },
     "metadata": {},
     "execution_count": 23
    }
   ],
   "source": [
    "# find difference btween 90th and 10th percentile -> minimum in this and the corresponding major\n",
    "spread_col = clean_df['Mid-Career 90th Percentile Salary'] - clean_df['Mid-Career 10th Percentile Salary']\n",
    "clean_df.insert(1, 'Spread', spread_col)\n",
    "clean_df.head()"
   ]
  },
  {
   "cell_type": "code",
   "execution_count": 24,
   "metadata": {},
   "outputs": [
    {
     "output_type": "execute_result",
     "data": {
      "text/plain": [
       "           Undergraduate Major   Spread  Starting Median Salary  \\\n",
       "40                     Nursing  50700.0                 54200.0   \n",
       "43         Physician Assistant  57600.0                 74300.0   \n",
       "41                   Nutrition  65300.0                 39900.0   \n",
       "49                     Spanish  65400.0                 34000.0   \n",
       "27  Health Care Administration  66400.0                 38800.0   \n",
       "\n",
       "    Mid-Career Median Salary  Mid-Career 10th Percentile Salary  \\\n",
       "40                   67000.0                            47600.0   \n",
       "43                   91700.0                            66400.0   \n",
       "41                   55300.0                            33900.0   \n",
       "49                   53100.0                            31000.0   \n",
       "27                   60600.0                            34600.0   \n",
       "\n",
       "    Mid-Career 90th Percentile Salary     Group  \n",
       "40                            98300.0  Business  \n",
       "43                           124000.0      STEM  \n",
       "41                            99200.0      HASS  \n",
       "49                            96400.0      HASS  \n",
       "27                           101000.0  Business  "
      ],
      "text/html": "<div>\n<style scoped>\n    .dataframe tbody tr th:only-of-type {\n        vertical-align: middle;\n    }\n\n    .dataframe tbody tr th {\n        vertical-align: top;\n    }\n\n    .dataframe thead th {\n        text-align: right;\n    }\n</style>\n<table border=\"1\" class=\"dataframe\">\n  <thead>\n    <tr style=\"text-align: right;\">\n      <th></th>\n      <th>Undergraduate Major</th>\n      <th>Spread</th>\n      <th>Starting Median Salary</th>\n      <th>Mid-Career Median Salary</th>\n      <th>Mid-Career 10th Percentile Salary</th>\n      <th>Mid-Career 90th Percentile Salary</th>\n      <th>Group</th>\n    </tr>\n  </thead>\n  <tbody>\n    <tr>\n      <th>40</th>\n      <td>Nursing</td>\n      <td>50700.0</td>\n      <td>54200.0</td>\n      <td>67000.0</td>\n      <td>47600.0</td>\n      <td>98300.0</td>\n      <td>Business</td>\n    </tr>\n    <tr>\n      <th>43</th>\n      <td>Physician Assistant</td>\n      <td>57600.0</td>\n      <td>74300.0</td>\n      <td>91700.0</td>\n      <td>66400.0</td>\n      <td>124000.0</td>\n      <td>STEM</td>\n    </tr>\n    <tr>\n      <th>41</th>\n      <td>Nutrition</td>\n      <td>65300.0</td>\n      <td>39900.0</td>\n      <td>55300.0</td>\n      <td>33900.0</td>\n      <td>99200.0</td>\n      <td>HASS</td>\n    </tr>\n    <tr>\n      <th>49</th>\n      <td>Spanish</td>\n      <td>65400.0</td>\n      <td>34000.0</td>\n      <td>53100.0</td>\n      <td>31000.0</td>\n      <td>96400.0</td>\n      <td>HASS</td>\n    </tr>\n    <tr>\n      <th>27</th>\n      <td>Health Care Administration</td>\n      <td>66400.0</td>\n      <td>38800.0</td>\n      <td>60600.0</td>\n      <td>34600.0</td>\n      <td>101000.0</td>\n      <td>Business</td>\n    </tr>\n  </tbody>\n</table>\n</div>"
     },
     "metadata": {},
     "execution_count": 24
    }
   ],
   "source": [
    "clean_df  = clean_df.sort_values('Spread', ascending = True)\n",
    "clean_df.head()\n",
    "#Nursing"
   ]
  },
  {
   "source": [
    "## Majors with the Highest Potential\n"
   ],
   "cell_type": "markdown",
   "metadata": {}
  },
  {
   "cell_type": "code",
   "execution_count": 25,
   "metadata": {},
   "outputs": [
    {
     "output_type": "execute_result",
     "data": {
      "text/plain": [
       "   Undergraduate Major    Spread  Starting Median Salary  \\\n",
       "17           Economics  159400.0                 50100.0   \n",
       "22             Finance  147800.0                 47900.0   \n",
       "37                Math  137800.0                 45400.0   \n",
       "36           Marketing  132900.0                 40800.0   \n",
       "42          Philosophy  132500.0                 39900.0   \n",
       "\n",
       "    Mid-Career Median Salary  Mid-Career 10th Percentile Salary  \\\n",
       "17                   98600.0                            50600.0   \n",
       "22                   88300.0                            47200.0   \n",
       "37                   92400.0                            45200.0   \n",
       "36                   79600.0                            42100.0   \n",
       "42                   81200.0                            35500.0   \n",
       "\n",
       "    Mid-Career 90th Percentile Salary     Group  \n",
       "17                           210000.0  Business  \n",
       "22                           195000.0  Business  \n",
       "37                           183000.0      STEM  \n",
       "36                           175000.0  Business  \n",
       "42                           168000.0      HASS  "
      ],
      "text/html": "<div>\n<style scoped>\n    .dataframe tbody tr th:only-of-type {\n        vertical-align: middle;\n    }\n\n    .dataframe tbody tr th {\n        vertical-align: top;\n    }\n\n    .dataframe thead th {\n        text-align: right;\n    }\n</style>\n<table border=\"1\" class=\"dataframe\">\n  <thead>\n    <tr style=\"text-align: right;\">\n      <th></th>\n      <th>Undergraduate Major</th>\n      <th>Spread</th>\n      <th>Starting Median Salary</th>\n      <th>Mid-Career Median Salary</th>\n      <th>Mid-Career 10th Percentile Salary</th>\n      <th>Mid-Career 90th Percentile Salary</th>\n      <th>Group</th>\n    </tr>\n  </thead>\n  <tbody>\n    <tr>\n      <th>17</th>\n      <td>Economics</td>\n      <td>159400.0</td>\n      <td>50100.0</td>\n      <td>98600.0</td>\n      <td>50600.0</td>\n      <td>210000.0</td>\n      <td>Business</td>\n    </tr>\n    <tr>\n      <th>22</th>\n      <td>Finance</td>\n      <td>147800.0</td>\n      <td>47900.0</td>\n      <td>88300.0</td>\n      <td>47200.0</td>\n      <td>195000.0</td>\n      <td>Business</td>\n    </tr>\n    <tr>\n      <th>37</th>\n      <td>Math</td>\n      <td>137800.0</td>\n      <td>45400.0</td>\n      <td>92400.0</td>\n      <td>45200.0</td>\n      <td>183000.0</td>\n      <td>STEM</td>\n    </tr>\n    <tr>\n      <th>36</th>\n      <td>Marketing</td>\n      <td>132900.0</td>\n      <td>40800.0</td>\n      <td>79600.0</td>\n      <td>42100.0</td>\n      <td>175000.0</td>\n      <td>Business</td>\n    </tr>\n    <tr>\n      <th>42</th>\n      <td>Philosophy</td>\n      <td>132500.0</td>\n      <td>39900.0</td>\n      <td>81200.0</td>\n      <td>35500.0</td>\n      <td>168000.0</td>\n      <td>HASS</td>\n    </tr>\n  </tbody>\n</table>\n</div>"
     },
     "metadata": {},
     "execution_count": 25
    }
   ],
   "source": [
    "clean_df  = clean_df.sort_values('Spread', ascending = False)\n",
    "clean_df.head()\n",
    "#Economics"
   ]
  },
  {
   "cell_type": "code",
   "execution_count": null,
   "metadata": {},
   "outputs": [],
   "source": []
  }
 ]
}